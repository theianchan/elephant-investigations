{
 "cells": [
  {
   "cell_type": "markdown",
   "metadata": {},
   "source": [
    "### WM Versioning\n",
    "\n",
    "* v0 - Takes date; returns start date of next shower\n",
    "* v1 - Above + takes location; returns location of closest park\n",
    "* v2 - Above + takes max driving time, returns optimal dark sky location within max driving time\n",
    "* v3 - Above + takes date range, returns best date + best time\n",
    "* v4 - Above + available as a website!\n",
    "\n",
    "### v0 Steps\n",
    "\n",
    "1. Create meteor-shower.csv\n",
    "2. Convert relevant values to datetime\n",
    "3. Write function that takes date\n",
    "4. Update function to return next meteor shower name, date"
   ]
  },
  {
   "cell_type": "code",
   "execution_count": 1,
   "metadata": {
    "collapsed": true
   },
   "outputs": [],
   "source": [
    "import pandas as pd\n",
    "import numpy as np\n",
    "from datetime import datetime, timedelta"
   ]
  },
  {
   "cell_type": "markdown",
   "metadata": {},
   "source": [
    "## 1. Create meteor-shower.csv\n",
    "Using Sublime:\n",
    "* Select All (CMD + Ctrl + G) on existing periods, spaces, commas\n",
    "* Remove processed rows to a different document so columns with standard cell lengths line up\n",
    "* Some combination of Alt (drawing straight line down) and CMD (multiple location) selection"
   ]
  },
  {
   "cell_type": "code",
   "execution_count": 2,
   "metadata": {
    "collapsed": false
   },
   "outputs": [
    {
     "data": {
      "text/html": [
       "<div>\n",
       "<table border=\"1\" class=\"dataframe\">\n",
       "  <thead>\n",
       "    <tr style=\"text-align: right;\">\n",
       "      <th></th>\n",
       "      <th>Shower</th>\n",
       "      <th>Activity</th>\n",
       "      <th>Maximum Date</th>\n",
       "      <th>Maximum λ⊙</th>\n",
       "      <th>Radiant α</th>\n",
       "      <th>Radiant δ</th>\n",
       "      <th>V∞ km/s</th>\n",
       "      <th>r</th>\n",
       "      <th>ZHR</th>\n",
       "    </tr>\n",
       "  </thead>\n",
       "  <tbody>\n",
       "    <tr>\n",
       "      <th>0</th>\n",
       "      <td>Antihelion Source (ANT)</td>\n",
       "      <td>Dec 10–Sep 10</td>\n",
       "      <td>March–April – late May-June</td>\n",
       "      <td>NaN</td>\n",
       "      <td>see Table 6</td>\n",
       "      <td>see Table 6</td>\n",
       "      <td>30</td>\n",
       "      <td>3.0</td>\n",
       "      <td>4</td>\n",
       "    </tr>\n",
       "    <tr>\n",
       "      <th>1</th>\n",
       "      <td>Quadrantids (010 QUA)</td>\n",
       "      <td>Dec 28–Jan 12</td>\n",
       "      <td>Jan 04</td>\n",
       "      <td>283.◦16</td>\n",
       "      <td>230◦</td>\n",
       "      <td>+49◦</td>\n",
       "      <td>41</td>\n",
       "      <td>2.1</td>\n",
       "      <td>120</td>\n",
       "    </tr>\n",
       "    <tr>\n",
       "      <th>2</th>\n",
       "      <td>α-Centaurids (102 ACE)</td>\n",
       "      <td>Jan 28–Feb 21</td>\n",
       "      <td>Feb 08</td>\n",
       "      <td>319.◦2</td>\n",
       "      <td>210◦</td>\n",
       "      <td>−59◦</td>\n",
       "      <td>56</td>\n",
       "      <td>2.0</td>\n",
       "      <td>6</td>\n",
       "    </tr>\n",
       "  </tbody>\n",
       "</table>\n",
       "</div>"
      ],
      "text/plain": [
       "                    Shower       Activity                 Maximum Date  \\\n",
       "0  Antihelion Source (ANT)  Dec 10–Sep 10  March–April – late May-June   \n",
       "1    Quadrantids (010 QUA)  Dec 28–Jan 12                       Jan 04   \n",
       "2   α-Centaurids (102 ACE)  Jan 28–Feb 21                       Feb 08   \n",
       "\n",
       "  Maximum λ⊙    Radiant α    Radiant δ  V∞ km/s    r  ZHR  \n",
       "0        NaN  see Table 6  see Table 6       30  3.0    4  \n",
       "1    283.◦16         230◦         +49◦       41  2.1  120  \n",
       "2     319.◦2         210◦         −59◦       56  2.0    6  "
      ]
     },
     "execution_count": 2,
     "metadata": {},
     "output_type": "execute_result"
    }
   ],
   "source": [
    "df = pd.read_csv('meteor-shower.csv')\n",
    "df.head(3)"
   ]
  },
  {
   "cell_type": "markdown",
   "metadata": {},
   "source": [
    "## 2. Convert relevant values to datetime\n",
    "### Create 'Start Date' and 'End Date' columns from 'Activity' column"
   ]
  },
  {
   "cell_type": "code",
   "execution_count": 3,
   "metadata": {
    "collapsed": false
   },
   "outputs": [],
   "source": [
    "df['Start Date'] = df['Activity'].str[:6]\n",
    "df['End Date'] = df['Activity'].str[9:]"
   ]
  },
  {
   "cell_type": "code",
   "execution_count": 4,
   "metadata": {
    "collapsed": false
   },
   "outputs": [
    {
     "data": {
      "text/html": [
       "<div>\n",
       "<table border=\"1\" class=\"dataframe\">\n",
       "  <thead>\n",
       "    <tr style=\"text-align: right;\">\n",
       "      <th></th>\n",
       "      <th>Shower</th>\n",
       "      <th>Activity</th>\n",
       "      <th>Maximum Date</th>\n",
       "      <th>Maximum λ⊙</th>\n",
       "      <th>Radiant α</th>\n",
       "      <th>Radiant δ</th>\n",
       "      <th>V∞ km/s</th>\n",
       "      <th>r</th>\n",
       "      <th>ZHR</th>\n",
       "      <th>Start Date</th>\n",
       "      <th>End Date</th>\n",
       "    </tr>\n",
       "  </thead>\n",
       "  <tbody>\n",
       "    <tr>\n",
       "      <th>0</th>\n",
       "      <td>Antihelion Source (ANT)</td>\n",
       "      <td>Dec 10–Sep 10</td>\n",
       "      <td>March–April – late May-June</td>\n",
       "      <td>NaN</td>\n",
       "      <td>see Table 6</td>\n",
       "      <td>see Table 6</td>\n",
       "      <td>30</td>\n",
       "      <td>3.0</td>\n",
       "      <td>4</td>\n",
       "      <td>Dec 10</td>\n",
       "      <td>Sep 10</td>\n",
       "    </tr>\n",
       "    <tr>\n",
       "      <th>1</th>\n",
       "      <td>Quadrantids (010 QUA)</td>\n",
       "      <td>Dec 28–Jan 12</td>\n",
       "      <td>Jan 04</td>\n",
       "      <td>283.◦16</td>\n",
       "      <td>230◦</td>\n",
       "      <td>+49◦</td>\n",
       "      <td>41</td>\n",
       "      <td>2.1</td>\n",
       "      <td>120</td>\n",
       "      <td>Dec 28</td>\n",
       "      <td>Jan 12</td>\n",
       "    </tr>\n",
       "    <tr>\n",
       "      <th>2</th>\n",
       "      <td>α-Centaurids (102 ACE)</td>\n",
       "      <td>Jan 28–Feb 21</td>\n",
       "      <td>Feb 08</td>\n",
       "      <td>319.◦2</td>\n",
       "      <td>210◦</td>\n",
       "      <td>−59◦</td>\n",
       "      <td>56</td>\n",
       "      <td>2.0</td>\n",
       "      <td>6</td>\n",
       "      <td>Jan 28</td>\n",
       "      <td>Feb 21</td>\n",
       "    </tr>\n",
       "  </tbody>\n",
       "</table>\n",
       "</div>"
      ],
      "text/plain": [
       "                    Shower       Activity                 Maximum Date  \\\n",
       "0  Antihelion Source (ANT)  Dec 10–Sep 10  March–April – late May-June   \n",
       "1    Quadrantids (010 QUA)  Dec 28–Jan 12                       Jan 04   \n",
       "2   α-Centaurids (102 ACE)  Jan 28–Feb 21                       Feb 08   \n",
       "\n",
       "  Maximum λ⊙    Radiant α    Radiant δ  V∞ km/s    r  ZHR Start Date End Date  \n",
       "0        NaN  see Table 6  see Table 6       30  3.0    4     Dec 10   Sep 10  \n",
       "1    283.◦16         230◦         +49◦       41  2.1  120     Dec 28   Jan 12  \n",
       "2     319.◦2         210◦         −59◦       56  2.0    6     Jan 28   Feb 21  "
      ]
     },
     "execution_count": 4,
     "metadata": {},
     "output_type": "execute_result"
    }
   ],
   "source": [
    "df.head(3)"
   ]
  },
  {
   "cell_type": "markdown",
   "metadata": {},
   "source": [
    "### Add year and convert 'Start Date', 'End Date' to datetime\n",
    "\n",
    "Pandas assigns 1900 as the year by default \n",
    "\n",
    "Manually assign years to dates in previous/following years using df.ix; create new columns for 'Start Date w/ Year', 'End Date w/ Year' because just using 'Start Date' or 'End Date' ends up referencing values that are already modified:"
   ]
  },
  {
   "cell_type": "code",
   "execution_count": 5,
   "metadata": {
    "collapsed": true
   },
   "outputs": [],
   "source": [
    "# df.ix[:1, 'Start Date'] = df['Start Date'] + ' 2015'\n",
    "# df.ix[2:, 'Start Date'] = df['Start Date'] + ' 2016'\n",
    "\n",
    "# produces something like Dec 10 2015 2016 - two appended dates"
   ]
  },
  {
   "cell_type": "code",
   "execution_count": 6,
   "metadata": {
    "collapsed": true
   },
   "outputs": [],
   "source": [
    "df.ix[:1, 'Start Date w/ Year'] = df['Start Date'] + ' 2015'\n",
    "df.ix[2:, 'Start Date w/ Year'] = df['Start Date'] + ' 2016'\n",
    "\n",
    "df.ix[:, 'End Date w/ Year'] = df['End Date'] + ' 2016'\n",
    "df.ix[34:34, 'End Date w/ Year'] = df['End Date'] + ' 2017'"
   ]
  },
  {
   "cell_type": "code",
   "execution_count": 7,
   "metadata": {
    "collapsed": false
   },
   "outputs": [],
   "source": [
    "df['Start Date w/ Year'] = pd.to_datetime(df['Start Date w/ Year'], format='%b %d %Y')\n",
    "df['End Date w/ Year'] = pd.to_datetime(df['End Date w/ Year'], format='%b %d %Y')"
   ]
  },
  {
   "cell_type": "code",
   "execution_count": 8,
   "metadata": {
    "collapsed": false
   },
   "outputs": [
    {
     "data": {
      "text/html": [
       "<div>\n",
       "<table border=\"1\" class=\"dataframe\">\n",
       "  <thead>\n",
       "    <tr style=\"text-align: right;\">\n",
       "      <th></th>\n",
       "      <th>Shower</th>\n",
       "      <th>Activity</th>\n",
       "      <th>Maximum Date</th>\n",
       "      <th>Maximum λ⊙</th>\n",
       "      <th>Radiant α</th>\n",
       "      <th>Radiant δ</th>\n",
       "      <th>V∞ km/s</th>\n",
       "      <th>r</th>\n",
       "      <th>ZHR</th>\n",
       "      <th>Start Date</th>\n",
       "      <th>End Date</th>\n",
       "      <th>Start Date w/ Year</th>\n",
       "      <th>End Date w/ Year</th>\n",
       "    </tr>\n",
       "  </thead>\n",
       "  <tbody>\n",
       "    <tr>\n",
       "      <th>0</th>\n",
       "      <td>Antihelion Source (ANT)</td>\n",
       "      <td>Dec 10–Sep 10</td>\n",
       "      <td>March–April – late May-June</td>\n",
       "      <td>NaN</td>\n",
       "      <td>see Table 6</td>\n",
       "      <td>see Table 6</td>\n",
       "      <td>30</td>\n",
       "      <td>3.0</td>\n",
       "      <td>4</td>\n",
       "      <td>Dec 10</td>\n",
       "      <td>Sep 10</td>\n",
       "      <td>2015-12-10</td>\n",
       "      <td>2016-09-10</td>\n",
       "    </tr>\n",
       "    <tr>\n",
       "      <th>1</th>\n",
       "      <td>Quadrantids (010 QUA)</td>\n",
       "      <td>Dec 28–Jan 12</td>\n",
       "      <td>Jan 04</td>\n",
       "      <td>283.◦16</td>\n",
       "      <td>230◦</td>\n",
       "      <td>+49◦</td>\n",
       "      <td>41</td>\n",
       "      <td>2.1</td>\n",
       "      <td>120</td>\n",
       "      <td>Dec 28</td>\n",
       "      <td>Jan 12</td>\n",
       "      <td>2015-12-28</td>\n",
       "      <td>2016-01-12</td>\n",
       "    </tr>\n",
       "    <tr>\n",
       "      <th>2</th>\n",
       "      <td>α-Centaurids (102 ACE)</td>\n",
       "      <td>Jan 28–Feb 21</td>\n",
       "      <td>Feb 08</td>\n",
       "      <td>319.◦2</td>\n",
       "      <td>210◦</td>\n",
       "      <td>−59◦</td>\n",
       "      <td>56</td>\n",
       "      <td>2.0</td>\n",
       "      <td>6</td>\n",
       "      <td>Jan 28</td>\n",
       "      <td>Feb 21</td>\n",
       "      <td>2016-01-28</td>\n",
       "      <td>2016-02-21</td>\n",
       "    </tr>\n",
       "  </tbody>\n",
       "</table>\n",
       "</div>"
      ],
      "text/plain": [
       "                    Shower       Activity                 Maximum Date  \\\n",
       "0  Antihelion Source (ANT)  Dec 10–Sep 10  March–April – late May-June   \n",
       "1    Quadrantids (010 QUA)  Dec 28–Jan 12                       Jan 04   \n",
       "2   α-Centaurids (102 ACE)  Jan 28–Feb 21                       Feb 08   \n",
       "\n",
       "  Maximum λ⊙    Radiant α    Radiant δ  V∞ km/s    r  ZHR Start Date End Date  \\\n",
       "0        NaN  see Table 6  see Table 6       30  3.0    4     Dec 10   Sep 10   \n",
       "1    283.◦16         230◦         +49◦       41  2.1  120     Dec 28   Jan 12   \n",
       "2     319.◦2         210◦         −59◦       56  2.0    6     Jan 28   Feb 21   \n",
       "\n",
       "  Start Date w/ Year End Date w/ Year  \n",
       "0         2015-12-10       2016-09-10  \n",
       "1         2015-12-28       2016-01-12  \n",
       "2         2016-01-28       2016-02-21  "
      ]
     },
     "execution_count": 8,
     "metadata": {},
     "output_type": "execute_result"
    }
   ],
   "source": [
    "df.head(3)"
   ]
  },
  {
   "cell_type": "markdown",
   "metadata": {},
   "source": [
    "Drop redundant columns including 'Activity'"
   ]
  },
  {
   "cell_type": "code",
   "execution_count": 9,
   "metadata": {
    "collapsed": false
   },
   "outputs": [],
   "source": [
    "df.drop(['Start Date', 'End Date', 'Activity'], axis=1, inplace=True)"
   ]
  },
  {
   "cell_type": "markdown",
   "metadata": {},
   "source": [
    "Drop Antihelion because it goes on ~all year and ZHR is 4"
   ]
  },
  {
   "cell_type": "code",
   "execution_count": 10,
   "metadata": {
    "collapsed": false
   },
   "outputs": [],
   "source": [
    "df.drop(0, inplace=True)"
   ]
  },
  {
   "cell_type": "code",
   "execution_count": 11,
   "metadata": {
    "collapsed": false
   },
   "outputs": [
    {
     "data": {
      "text/html": [
       "<div>\n",
       "<table border=\"1\" class=\"dataframe\">\n",
       "  <thead>\n",
       "    <tr style=\"text-align: right;\">\n",
       "      <th></th>\n",
       "      <th>Shower</th>\n",
       "      <th>Maximum Date</th>\n",
       "      <th>Maximum λ⊙</th>\n",
       "      <th>Radiant α</th>\n",
       "      <th>Radiant δ</th>\n",
       "      <th>V∞ km/s</th>\n",
       "      <th>r</th>\n",
       "      <th>ZHR</th>\n",
       "      <th>Start Date w/ Year</th>\n",
       "      <th>End Date w/ Year</th>\n",
       "    </tr>\n",
       "  </thead>\n",
       "  <tbody>\n",
       "    <tr>\n",
       "      <th>1</th>\n",
       "      <td>Quadrantids (010 QUA)</td>\n",
       "      <td>Jan 04</td>\n",
       "      <td>283.◦16</td>\n",
       "      <td>230◦</td>\n",
       "      <td>+49◦</td>\n",
       "      <td>41</td>\n",
       "      <td>2.1</td>\n",
       "      <td>120</td>\n",
       "      <td>2015-12-28</td>\n",
       "      <td>2016-01-12</td>\n",
       "    </tr>\n",
       "    <tr>\n",
       "      <th>2</th>\n",
       "      <td>α-Centaurids (102 ACE)</td>\n",
       "      <td>Feb 08</td>\n",
       "      <td>319.◦2</td>\n",
       "      <td>210◦</td>\n",
       "      <td>−59◦</td>\n",
       "      <td>56</td>\n",
       "      <td>2.0</td>\n",
       "      <td>6</td>\n",
       "      <td>2016-01-28</td>\n",
       "      <td>2016-02-21</td>\n",
       "    </tr>\n",
       "    <tr>\n",
       "      <th>3</th>\n",
       "      <td>γ-Normids (118 GNO)</td>\n",
       "      <td>Mar 14</td>\n",
       "      <td>354◦</td>\n",
       "      <td>239◦</td>\n",
       "      <td>−50◦</td>\n",
       "      <td>56</td>\n",
       "      <td>2.4</td>\n",
       "      <td>6</td>\n",
       "      <td>2016-02-25</td>\n",
       "      <td>2016-03-28</td>\n",
       "    </tr>\n",
       "  </tbody>\n",
       "</table>\n",
       "</div>"
      ],
      "text/plain": [
       "                   Shower Maximum Date Maximum λ⊙ Radiant α Radiant δ  \\\n",
       "1   Quadrantids (010 QUA)       Jan 04    283.◦16      230◦      +49◦   \n",
       "2  α-Centaurids (102 ACE)       Feb 08     319.◦2      210◦      −59◦   \n",
       "3     γ-Normids (118 GNO)       Mar 14       354◦      239◦      −50◦   \n",
       "\n",
       "   V∞ km/s    r  ZHR Start Date w/ Year End Date w/ Year  \n",
       "1       41  2.1  120         2015-12-28       2016-01-12  \n",
       "2       56  2.0    6         2016-01-28       2016-02-21  \n",
       "3       56  2.4    6         2016-02-25       2016-03-28  "
      ]
     },
     "execution_count": 11,
     "metadata": {},
     "output_type": "execute_result"
    }
   ],
   "source": [
    "df.head(3)"
   ]
  },
  {
   "cell_type": "markdown",
   "metadata": {},
   "source": [
    "## 3. Write function that takes date + returns next meteor shower name, date\n",
    "\n",
    "Assume we'll force the user to pick a date on a calendar, so we'll get an input in datetime-friendly format, ex: 2016-10-05\n",
    "\n",
    "Sort by start date to make searching easier"
   ]
  },
  {
   "cell_type": "code",
   "execution_count": 12,
   "metadata": {
    "collapsed": false
   },
   "outputs": [],
   "source": [
    "df.sort_values('Start Date w/ Year', inplace=True)"
   ]
  },
  {
   "cell_type": "markdown",
   "metadata": {},
   "source": [
    "This puts the rows slightly out of order, so reindex the dataframe"
   ]
  },
  {
   "cell_type": "code",
   "execution_count": 13,
   "metadata": {
    "collapsed": true
   },
   "outputs": [],
   "source": [
    "df.index = range(len(df))"
   ]
  },
  {
   "cell_type": "markdown",
   "metadata": {},
   "source": [
    "Things that don't work:"
   ]
  },
  {
   "cell_type": "code",
   "execution_count": 14,
   "metadata": {
    "collapsed": false
   },
   "outputs": [],
   "source": [
    "# def get_shower_date(day, month, year):\n",
    "#     dt_query = datetime(year, month, day)\n",
    "#     for i in range(len(df)):\n",
    "\n",
    "#         print dt_query - df[i]['Start Date w/ Year']\n",
    "#         # Returns a keyerror\n",
    "\n",
    "#         print dt_query - df.ix[i, 'Start Date w/ Year']\n",
    "#         if dt_query - df.ix[i, 'Start Date w/ Year'] < timedelta(days=0):\n",
    "#             print 'Boom!'\n",
    "#             # This actually works... But maybe not the pandas way\n",
    "\n",
    "# get_shower_date(15, 9, 2016)"
   ]
  },
  {
   "cell_type": "markdown",
   "metadata": {},
   "source": [
    "Get all the information of the next shower after the user's date. Returns the entire row. "
   ]
  },
  {
   "cell_type": "code",
   "execution_count": 15,
   "metadata": {
    "collapsed": false,
    "scrolled": false
   },
   "outputs": [],
   "source": [
    "def get_next_shower(day, month, year):\n",
    "    dt_query = datetime(year, month, day)\n",
    "    \n",
    "    for index, row in df.iterrows():\n",
    "        if dt_query - row['Start Date w/ Year'] < timedelta(days=0):\n",
    "            return row\n",
    "        \n",
    "next_shower_date = get_next_shower(15, 9, 2016)['Start Date w/ Year']"
   ]
  },
  {
   "cell_type": "code",
   "execution_count": 16,
   "metadata": {
    "collapsed": false
   },
   "outputs": [
    {
     "name": "stdout",
     "output_type": "stream",
     "text": [
      "Shower                 Orionids (008 ORI)\n",
      "Maximum Date                       Oct 21\n",
      "Maximum λ⊙                           208◦\n",
      "Radiant α                             95◦\n",
      "Radiant δ                            +16◦\n",
      "V∞ km/s                                66\n",
      "r                                     2.5\n",
      "ZHR                                    15\n",
      "Start Date w/ Year    2016-10-02 00:00:00\n",
      "End Date w/ Year      2016-11-07 00:00:00\n",
      "Name: 18, dtype: object\n"
     ]
    }
   ],
   "source": [
    "print get_next_shower(15, 9, 2016)"
   ]
  },
  {
   "cell_type": "markdown",
   "metadata": {},
   "source": [
    "To celebrate, we're making this tangible through a local website! \n",
    "\n",
    "(Turns out no one in the room knows how to use Django so this is getting postponed)"
   ]
  }
 ],
 "metadata": {
  "kernelspec": {
   "display_name": "Python 2",
   "language": "python",
   "name": "python2"
  },
  "language_info": {
   "codemirror_mode": {
    "name": "ipython",
    "version": 2
   },
   "file_extension": ".py",
   "mimetype": "text/x-python",
   "name": "python",
   "nbconvert_exporter": "python",
   "pygments_lexer": "ipython2",
   "version": "2.7.11"
  }
 },
 "nbformat": 4,
 "nbformat_minor": 0
}
