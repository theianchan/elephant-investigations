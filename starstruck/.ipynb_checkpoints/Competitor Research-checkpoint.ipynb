{
 "cells": [
  {
   "cell_type": "markdown",
   "metadata": {},
   "source": [
    "Resources\n",
    "\n",
    "GMAT (http://gmat.gsfc.nasa.gov)\n",
    "\n",
    "Meteor Counter (http://meteorcounter.com/)\n",
    "\n",
    "Google Sky Map (http://www.google.com/mobile/skymap/)\n",
    "\n",
    "Star Walk (http://vitotechnology.com/star-walk.html)\n",
    "\n",
    "Meteor Shower Guide (http://www.meteorshowerguide.com/)"
   ]
  }
 ],
 "metadata": {
  "kernelspec": {
   "display_name": "Python 2",
   "language": "python",
   "name": "python2"
  },
  "language_info": {
   "codemirror_mode": {
    "name": "ipython",
    "version": 2
   },
   "file_extension": ".py",
   "mimetype": "text/x-python",
   "name": "python",
   "nbconvert_exporter": "python",
   "pygments_lexer": "ipython2",
   "version": "2.7.11"
  }
 },
 "nbformat": 4,
 "nbformat_minor": 0
}
