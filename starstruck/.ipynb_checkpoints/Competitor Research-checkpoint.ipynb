{
 "cells": [
  {
   "cell_type": "markdown",
   "metadata": {},
   "source": [
    "* https://www.reddit.com/r/YouShouldKnow/comments/4wzao6/ysk_this_thursday_night_friday_morning_may_be_the/\n",
    "* http://www.imo.net/files/data/calendar/cal2016.pdf\n",
    "* http://www.imo.net/files/data/calendar/cal2017.pdf\n",
    "* http://www.almanac.com/content/meteor-shower-calendar-2016\n",
    "* http://www.amsmeteors.org/meteor-showers/meteor-shower-calendar/"
   ]
  },
  {
   "cell_type": "markdown",
   "metadata": {},
   "source": [
    "# Resources\n",
    "\n",
    "## GMAT\n",
    "\n",
    "The General Mission Analysis Tool (GMAT) is a space trajectory optimization and mission analysis system developed by NASA and private industry in the spirit of the NASA Vision. GMAT contains new technology and is a testbed for future technology development. To satisfy NASA's mandate and maximize technology transfer, GMAT is an open source software system licensed under the NASA Open Source Agreement.\n",
    "\n",
    "GMAT (http://gmat.gsfc.nasa.gov)\n",
    "\n",
    "## Meteor Shower Guide\n",
    "\n",
    "The complete pocket reference for annual meteor showers.\n",
    "\n",
    "http://www.meteorshowerguide.com/\n",
    "\n",
    "## American Meteor Society\n",
    "\n",
    "Pretty obsessed with fireballs but contains weekly reports on meteor activity outlook.\n",
    "\n",
    "http://www.amsmeteors.org/\n",
    "\n",
    "## Other\n",
    "\n",
    "Stuff we looked into but isn't really relevant:\n",
    "\n",
    "* All the submissions on https://2013.spaceappschallenge.org/challenge/catch-a-meteor-tracker/#projects\n",
    "* Google Sky (Google Maps but for the sky) https://www.google.com/sky/\n",
    "* Star Walk (app to locate and identify objects in the night sky)  http://vitotechnology.com/star-walk.html\n",
    "* All-Sky Fireball Network (all-sky camera systems for the detection of bright meteors and fireballs) http://fireballs.ndc.nasa.gov/\n",
    "\n",
    "\n",
    "Stuff that we did not get to look into (because 404s and stuff):\n",
    "\n",
    "* Meteor Counter (app to easily capture meteor observations) http://meteorcounter.com/"
   ]
  }
 ],
 "metadata": {
  "kernelspec": {
   "display_name": "Python 2",
   "language": "python",
   "name": "python2"
  },
  "language_info": {
   "codemirror_mode": {
    "name": "ipython",
    "version": 2
   },
   "file_extension": ".py",
   "mimetype": "text/x-python",
   "name": "python",
   "nbconvert_exporter": "python",
   "pygments_lexer": "ipython2",
   "version": "2.7.11"
  }
 },
 "nbformat": 4,
 "nbformat_minor": 0
}
