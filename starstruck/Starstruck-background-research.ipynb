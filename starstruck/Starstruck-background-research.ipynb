{
 "cells": [
  {
   "cell_type": "markdown",
   "metadata": {},
   "source": [
    "# Surprising facts about meteor showers! \n",
    "\n",
    "\n",
    "## Number of meteor showers per year\n",
    "\n",
    "\n",
    "## Number of meteors per hour\n",
    "\n",
    "\n",
    "\n",
    "## Peak days out of each shower\n",
    "\n",
    "\n",
    "\n",
    "## Best times to view shower\n",
    "\n",
    "## What are they?\n",
    "A meteor shower is a spike in the number of meteors or \"shooting stars\" that streak through the night sky.\n",
    "\n",
    "Most meteor showers are spawned by comets. As a comet orbits the Sun it sheds an icy, dusty debris stream along its orbit. If Earth travels through this stream, we will see a meteor shower. Although the meteors can appear anywhere in the sky, if you trace their paths, the meteors in each shower appear to \"rain\" into the sky from the same region.\n",
    "\n",
    "Meteor showers are named for the constellation that coincides with this region in the sky, a spot known as the radiant. For instance, the radiant for the Leonid meteor shower is in the constellation Leo. The Perseid meteor shower is so named because meteors appear to fall from a point in the constellation Perseus.\n",
    "\n",
    "\n",
    "\n",
    "## Where to go\n",
    "Get away from the glow of city lights and toward the constellation from which the meteors will appear to radiate.\n",
    "\n",
    "For example, drive north to view the Leonids. Driving south may lead you to darker skies, but the glow will dominate the northern horizon, where Leo rises. Perseid meteors will appear to \"rain\" into the atmosphere from the constellation Perseus, which rises in the northeast around 11 p.m. in mid-August.\n",
    "\n",
    "After you've escaped the city glow, find a dark, secluded spot where oncoming car headlights will not periodically ruin your sensitive night vision. Look for state or city parks or other safe, dark sites.\n",
    "\n",
    "Once you have settled at your observing spot, lie back or position yourself so the horizon appears at the edge of your peripheral vision, with the stars and sky filling your field of view. Meteors will instantly grab your attention as they streak by.\n",
    "\n",
    "\n",
    "## What to bring\n",
    "Treat meteor watching like you would the 4th of July fireworks. Pack comfortable chairs, bug spray, food and drinks, blankets, plus a red-filtered flashlight for reading maps and charts without ruining your night vision. Binoculars are not necessary. Your eyes will do just fine.\n",
    "\n",
    "\n",
    "## Sources\n",
    "https://stardate.org/nightsky/meteors\n"
   ]
  }
 ],
 "metadata": {
  "kernelspec": {
   "display_name": "Python 2",
   "language": "python",
   "name": "python2"
  },
  "language_info": {
   "codemirror_mode": {
    "name": "ipython",
    "version": 2
   },
   "file_extension": ".py",
   "mimetype": "text/x-python",
   "name": "python",
   "nbconvert_exporter": "python",
   "pygments_lexer": "ipython2",
   "version": "2.7.11"
  }
 },
 "nbformat": 4,
 "nbformat_minor": 0
}
