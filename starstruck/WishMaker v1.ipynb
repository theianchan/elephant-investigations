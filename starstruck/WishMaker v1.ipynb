{
 "cells": [
  {
   "cell_type": "markdown",
   "metadata": {},
   "source": [
    "### WM Versioning\n",
    "\n",
    "* v0 - Takes date; returns start date of next shower\n",
    "* v1 - Above + takes location; returns location of closest park\n",
    "* v2 - Above + takes max driving time, returns optimal dark sky location within max driving time\n",
    "* v3 - Above + takes date range, returns best date + best time\n",
    "* v4 - Above + available as a website!\n",
    "\n",
    "### v1 steps\n",
    "\n",
    "1. Request user location through browser\n",
    "2. Create dataframe of local parks\n",
    "3. Compare user location to local parks\n",
    "4. Return closest park\n",
    "\n",
    "### Scoping\n",
    "Should decide what area we'll be looking at -- Bay Area only, CA only, US only?"
   ]
  },
  {
   "cell_type": "markdown",
   "metadata": {
    "collapsed": true
   },
   "source": [
    "## 1. Request user location through browser"
   ]
  },
  {
   "cell_type": "code",
   "execution_count": 23,
   "metadata": {
    "collapsed": true
   },
   "outputs": [],
   "source": [
    "import pandas as pd\n",
    "import numpy as np\n",
    "import urllib2\n",
    "import json\n",
    "\n",
    "from math import radians, sin, cos, asin, sqrt, pi, atan2\n",
    "import numpy as np\n",
    "import itertools\n"
   ]
  },
  {
   "cell_type": "code",
   "execution_count": 2,
   "metadata": {
    "collapsed": false
   },
   "outputs": [],
   "source": [
    "def get_user_location():\n",
    "    # Automatically geolocate the connecting IP\n",
    "    f = urllib2.urlopen('http://freegeoip.net/json/')\n",
    "    \n",
    "    # Processes and formats JSON file from URL\n",
    "    json_string = f.read()\n",
    "    f.close()\n",
    "    location = json.loads(json_string)\n",
    "    return location\n",
    "    \n",
    "    # This actually returns a string and we can't access dictionary values\n",
    "    # return json.dumps(location, indent=4, sort_keys=True)"
   ]
  },
  {
   "cell_type": "code",
   "execution_count": 3,
   "metadata": {
    "collapsed": false
   },
   "outputs": [
    {
     "name": "stdout",
     "output_type": "stream",
     "text": [
      "{u'city': u'San Francisco', u'region_code': u'CA', u'region_name': u'California', u'ip': u'8.21.168.105', u'time_zone': u'America/Los_Angeles', u'longitude': -122.4382, u'metro_code': 807, u'latitude': 37.8018, u'country_code': u'US', u'country_name': u'United States', u'zip_code': u'94123'}\n"
     ]
    }
   ],
   "source": [
    "print get_user_location()"
   ]
  },
  {
   "cell_type": "markdown",
   "metadata": {},
   "source": [
    "## 2. Create dataframe of local parks\n",
    "\n",
    "Get a list of parks - names/addresses, best case is long/lat\n",
    "\n",
    "Deciding against US parks (US national parks: 59), going for CA national + state parks (9 + 118)\n",
    "\n",
    "Using campground data http://www.uscampgrounds.info/:\n",
    "\n",
    "> We include only vehicle-accessible, family campgrounds with 4 or more campsites - whose existence and location we can verify.  We want to be sure you find an actual family campground when you drive there. We try to tell you if you need a 4 wheel drive or high-clearance vehicle.  (no backpack-in,  boat-in, horse camps or group-only camps). We do include some selected \"boondocks\" (no facilities), (we call \"dispersed\") We will tell you if you need to take a ferry or if a short walk to the sites is required. We do not include privately owned campgrounds.  \n",
    "\n",
    "Starting with west coast camps"
   ]
  },
  {
   "cell_type": "code",
   "execution_count": 4,
   "metadata": {
    "collapsed": false
   },
   "outputs": [
    {
     "data": {
      "text/plain": [
       "(3926, 16)"
      ]
     },
     "execution_count": 4,
     "metadata": {},
     "output_type": "execute_result"
    }
   ],
   "source": [
    "df = pd.read_csv('west-coast-camps.csv')\n",
    "df.shape"
   ]
  },
  {
   "cell_type": "code",
   "execution_count": 5,
   "metadata": {
    "collapsed": false
   },
   "outputs": [
    {
     "data": {
      "text/html": [
       "<div>\n",
       "<table border=\"1\" class=\"dataframe\">\n",
       "  <thead>\n",
       "    <tr style=\"text-align: right;\">\n",
       "      <th></th>\n",
       "      <th>lon</th>\n",
       "      <th>lat</th>\n",
       "      <th>gps composite field</th>\n",
       "      <th>campground code</th>\n",
       "      <th>campground name</th>\n",
       "      <th>type</th>\n",
       "      <th>phone</th>\n",
       "      <th>dates open</th>\n",
       "      <th>comments</th>\n",
       "      <th>number of campsites</th>\n",
       "      <th>elevation (ft)</th>\n",
       "      <th>amenities</th>\n",
       "      <th>state</th>\n",
       "      <th>distance from nearest town</th>\n",
       "      <th>bearing from nearest town</th>\n",
       "      <th>nearest town</th>\n",
       "    </tr>\n",
       "  </thead>\n",
       "  <tbody>\n",
       "    <tr>\n",
       "      <th>0</th>\n",
       "      <td>-146.343</td>\n",
       "      <td>61.086</td>\n",
       "      <td>ALLI/Allison Point  CP PH:907.835.2282 mid may...</td>\n",
       "      <td>ALLI</td>\n",
       "      <td>Allison Point</td>\n",
       "      <td>CP</td>\n",
       "      <td>907.835.2282</td>\n",
       "      <td>mid may-mid sep</td>\n",
       "      <td></td>\n",
       "      <td>61</td>\n",
       "      <td></td>\n",
       "      <td>45ft</td>\n",
       "      <td>AK</td>\n",
       "      <td>3.1</td>\n",
       "      <td>S</td>\n",
       "      <td>Valdez</td>\n",
       "    </tr>\n",
       "  </tbody>\n",
       "</table>\n",
       "</div>"
      ],
      "text/plain": [
       "       lon     lat                                gps composite field  \\\n",
       "0 -146.343  61.086  ALLI/Allison Point  CP PH:907.835.2282 mid may...   \n",
       "\n",
       "  campground code campground name type         phone       dates open  \\\n",
       "0            ALLI   Allison Point   CP  907.835.2282  mid may-mid sep   \n",
       "\n",
       "  comments number of campsites elevation (ft) amenities state  \\\n",
       "0                           61                    45ft     AK   \n",
       "\n",
       "   distance from nearest town bearing from nearest town nearest town  \n",
       "0                         3.1                        S        Valdez  "
      ]
     },
     "execution_count": 5,
     "metadata": {},
     "output_type": "execute_result"
    }
   ],
   "source": [
    "df.head(1)"
   ]
  },
  {
   "cell_type": "code",
   "execution_count": 6,
   "metadata": {
    "collapsed": false
   },
   "outputs": [
    {
     "data": {
      "text/plain": [
       "CA    1301\n",
       "OR     720\n",
       "WA     576\n",
       "ID     497\n",
       "MT     481\n",
       "WY     251\n",
       "AK     100\n",
       "Name: state, dtype: int64"
      ]
     },
     "execution_count": 6,
     "metadata": {},
     "output_type": "execute_result"
    }
   ],
   "source": [
    "df['state'].value_counts()"
   ]
  },
  {
   "cell_type": "code",
   "execution_count": 7,
   "metadata": {
    "collapsed": false
   },
   "outputs": [
    {
     "data": {
      "text/plain": [
       "array(['lon', 'lat', 'gps composite field', 'campground code',\n",
       "       'campground name', 'type', 'phone', 'dates open', 'comments',\n",
       "       'number of campsites', 'elevation (ft)', 'amenities', 'state',\n",
       "       'distance from nearest town', 'bearing from nearest town',\n",
       "       'nearest town'], dtype=object)"
      ]
     },
     "execution_count": 7,
     "metadata": {},
     "output_type": "execute_result"
    }
   ],
   "source": [
    "df.columns.values"
   ]
  },
  {
   "cell_type": "markdown",
   "metadata": {},
   "source": [
    "### Getting CA campgrounds only"
   ]
  },
  {
   "cell_type": "code",
   "execution_count": 8,
   "metadata": {
    "collapsed": false
   },
   "outputs": [
    {
     "data": {
      "text/plain": [
       "(1301, 16)"
      ]
     },
     "execution_count": 8,
     "metadata": {},
     "output_type": "execute_result"
    }
   ],
   "source": [
    "df_ca = df.loc[df['state']=='CA']\n",
    "df_ca.shape"
   ]
  },
  {
   "cell_type": "markdown",
   "metadata": {},
   "source": [
    "Adding legend info for full_type"
   ]
  },
  {
   "cell_type": "code",
   "execution_count": 9,
   "metadata": {
    "collapsed": false
   },
   "outputs": [
    {
     "name": "stderr",
     "output_type": "stream",
     "text": [
      "/Users/ianchan/anaconda/lib/python2.7/site-packages/ipykernel/__main__.py:24: SettingWithCopyWarning: \n",
      "A value is trying to be set on a copy of a slice from a DataFrame.\n",
      "Try using .loc[row_indexer,col_indexer] = value instead\n",
      "\n",
      "See the caveats in the documentation: http://pandas.pydata.org/pandas-docs/stable/indexing.html#indexing-view-versus-copy\n"
     ]
    }
   ],
   "source": [
    "df_ca['full_type'] = df_ca['type'].map({\n",
    "    'NP'  :'US National Park',\n",
    "    'NM'  :'National Monument', \n",
    "    'CNP' :'Canadian National Park', \n",
    "    'NF'  :'US National Forest', \n",
    "    'BLM' :'US Bureau of Land Management', \n",
    "    'USFW':'US Fish and Wildlife', \n",
    "    'BOR' :'US Bureau of Reclamation', \n",
    "    'COE' :'US Corps of Engineers', \n",
    "    'TVA' :'Tennessee Valley Auth.', \n",
    "    'SP'  :'State Park', \n",
    "    'PP'  :'Canadian Provincial Park', \n",
    "    'SRA' :'State Rec. Area',\n",
    "    'SRVA':'State Rec. Vehicular Area',\n",
    "    'SPR' :'State Preserve', \n",
    "    'SB'  :'State Beach', \n",
    "    'SF'  :'State Forest', \n",
    "    'SFW' :'State Fish and Wildlife',\n",
    "    'MIL' :'Military only',\n",
    "    'CP'  :'County/City/Regional Park', \n",
    "    'AUTH':'Authority', \n",
    "    'UTIL':'Utility', \n",
    "    'RES' :'Native American Reservation', \n",
    "    ' '   :'Unknown type'\n",
    "})"
   ]
  },
  {
   "cell_type": "code",
   "execution_count": 10,
   "metadata": {
    "collapsed": false
   },
   "outputs": [
    {
     "data": {
      "text/plain": [
       "NF      749\n",
       "CP      183\n",
       "SP       80\n",
       "BLM      72\n",
       "NP       52\n",
       "SRA      31\n",
       "MIL      30\n",
       "         24\n",
       "UTIL     20\n",
       "COE      18\n",
       "SB       15\n",
       "BOR      14\n",
       "SF        6\n",
       "NM        5\n",
       "SRVA      1\n",
       "RES       1\n",
       "Name: type, dtype: int64"
      ]
     },
     "execution_count": 10,
     "metadata": {},
     "output_type": "execute_result"
    }
   ],
   "source": [
    "df_ca['type'].value_counts()"
   ]
  },
  {
   "cell_type": "code",
   "execution_count": 11,
   "metadata": {
    "collapsed": false
   },
   "outputs": [
    {
     "data": {
      "text/plain": [
       "US National Forest              749\n",
       "County/City/Regional Park       183\n",
       "State Park                       80\n",
       "US Bureau of Land Management     72\n",
       "US National Park                 52\n",
       "State Rec. Area                  31\n",
       "Military only                    30\n",
       "Unknown type                     24\n",
       "Utility                          20\n",
       "US Corps of Engineers            18\n",
       "State Beach                      15\n",
       "US Bureau of Reclamation         14\n",
       "State Forest                      6\n",
       "National Monument                 5\n",
       "State Rec. Vehicular Area         1\n",
       "Native American Reservation       1\n",
       "Name: full_type, dtype: int64"
      ]
     },
     "execution_count": 11,
     "metadata": {},
     "output_type": "execute_result"
    }
   ],
   "source": [
    "df_ca['full_type'].value_counts()"
   ]
  },
  {
   "cell_type": "markdown",
   "metadata": {},
   "source": [
    "Drop original 'type'"
   ]
  },
  {
   "cell_type": "code",
   "execution_count": 12,
   "metadata": {
    "collapsed": false
   },
   "outputs": [
    {
     "name": "stderr",
     "output_type": "stream",
     "text": [
      "/Users/ianchan/anaconda/lib/python2.7/site-packages/ipykernel/__main__.py:1: SettingWithCopyWarning: \n",
      "A value is trying to be set on a copy of a slice from a DataFrame\n",
      "\n",
      "See the caveats in the documentation: http://pandas.pydata.org/pandas-docs/stable/indexing.html#indexing-view-versus-copy\n",
      "  if __name__ == '__main__':\n"
     ]
    }
   ],
   "source": [
    "df_ca.drop('type', axis=1, inplace=True)"
   ]
  },
  {
   "cell_type": "code",
   "execution_count": 13,
   "metadata": {
    "collapsed": false
   },
   "outputs": [
    {
     "data": {
      "text/plain": [
       "(1301, 16)"
      ]
     },
     "execution_count": 13,
     "metadata": {},
     "output_type": "execute_result"
    }
   ],
   "source": [
    "df_ca.shape"
   ]
  },
  {
   "cell_type": "markdown",
   "metadata": {},
   "source": [
    "Checking to see campground names that include 'State Park' or 'National Park' to see if a value in the 'full_type' column would also show up in the campground name. "
   ]
  },
  {
   "cell_type": "code",
   "execution_count": 14,
   "metadata": {
    "collapsed": false
   },
   "outputs": [
    {
     "name": "stdout",
     "output_type": "stream",
     "text": [
      "Number of campground names with State Park: 69\n",
      "Number of campground names with National Park: 50\n"
     ]
    }
   ],
   "source": [
    "df_national_park = df_ca.loc[df_ca['campground name'].str.contains('National Park')]\n",
    "df_state_park = df_ca.loc[df_ca['campground name'].str.contains('State Park')]\n",
    "\n",
    "print 'Number of campground names with State Park:', len(df_state_park)\n",
    "print 'Number of campground names with National Park:', len(df_national_park)"
   ]
  },
  {
   "cell_type": "markdown",
   "metadata": {},
   "source": [
    "Checking to see campground names that include 'Military'; same idea as above. "
   ]
  },
  {
   "cell_type": "code",
   "execution_count": 15,
   "metadata": {
    "collapsed": false
   },
   "outputs": [
    {
     "data": {
      "text/html": [
       "<div>\n",
       "<table border=\"1\" class=\"dataframe\">\n",
       "  <thead>\n",
       "    <tr style=\"text-align: right;\">\n",
       "      <th></th>\n",
       "      <th>lon</th>\n",
       "      <th>lat</th>\n",
       "      <th>campground name</th>\n",
       "      <th>comments</th>\n",
       "      <th>state</th>\n",
       "    </tr>\n",
       "  </thead>\n",
       "  <tbody>\n",
       "    <tr>\n",
       "      <th>105</th>\n",
       "      <td>-117.103</td>\n",
       "      <td>32.792</td>\n",
       "      <td>Admiral Baker Military - San Diego NS</td>\n",
       "      <td>military only - do not use our lat/lon - conta...</td>\n",
       "      <td>CA</td>\n",
       "    </tr>\n",
       "    <tr>\n",
       "      <th>159</th>\n",
       "      <td>-121.385</td>\n",
       "      <td>39.130</td>\n",
       "      <td>Beale AFB Military</td>\n",
       "      <td>voted best - military only - do not use our la...</td>\n",
       "      <td>CA</td>\n",
       "    </tr>\n",
       "    <tr>\n",
       "      <th>178</th>\n",
       "      <td>-116.879</td>\n",
       "      <td>34.235</td>\n",
       "      <td>Big Bear Military</td>\n",
       "      <td>military only - do not use our lat/lon - conta...</td>\n",
       "      <td>CA</td>\n",
       "    </tr>\n",
       "  </tbody>\n",
       "</table>\n",
       "</div>"
      ],
      "text/plain": [
       "         lon     lat                        campground name  \\\n",
       "105 -117.103  32.792  Admiral Baker Military - San Diego NS   \n",
       "159 -121.385  39.130                     Beale AFB Military   \n",
       "178 -116.879  34.235                      Big Bear Military   \n",
       "\n",
       "                                              comments state  \n",
       "105  military only - do not use our lat/lon - conta...    CA  \n",
       "159  voted best - military only - do not use our la...    CA  \n",
       "178  military only - do not use our lat/lon - conta...    CA  "
      ]
     },
     "execution_count": 15,
     "metadata": {},
     "output_type": "execute_result"
    }
   ],
   "source": [
    "df_ca.loc[df_ca['campground name'].str.contains('Military')][['lon', 'lat', 'campground name', 'comments', 'state']].head(3)"
   ]
  },
  {
   "cell_type": "markdown",
   "metadata": {},
   "source": [
    "## 3. Compare user location to local parks"
   ]
  },
  {
   "cell_type": "code",
   "execution_count": 16,
   "metadata": {
    "collapsed": true
   },
   "outputs": [],
   "source": [
    "from math import radians, cos, sin, asin, sqrt"
   ]
  },
  {
   "cell_type": "code",
   "execution_count": 21,
   "metadata": {
    "collapsed": true
   },
   "outputs": [],
   "source": [
    "def haversine(lon1, lat1, lon2, lat2):\n",
    "    \"\"\"\n",
    "    Calculate the great circle distance between two points \n",
    "    on the earth (specified in decimal degrees)\n",
    "    Returns in miles\n",
    "    \"\"\"\n",
    "    # convert decimal degrees to radians \n",
    "    lon1, lat1, lon2, lat2 = map(radians, [lon1, lat1, lon2, lat2])\n",
    "\n",
    "    # haversine formula \n",
    "    dlon = lon2 - lon1 \n",
    "    dlat = lat2 - lat1 \n",
    "    a = sin(dlat/2)**2 + cos(lat1) * cos(lat2) * sin(dlon/2)**2\n",
    "    c = 2 * asin(sqrt(a)) \n",
    "\n",
    "    # 6367 km is the radius of the Earth\n",
    "    km = 6367 * c\n",
    "    return km * 0.621371"
   ]
  },
  {
   "cell_type": "markdown",
   "metadata": {},
   "source": [
    "### Unit tests on haversine:\n",
    "#### 1. User location compared against itself\n",
    "Should return 0.0"
   ]
  },
  {
   "cell_type": "code",
   "execution_count": 18,
   "metadata": {
    "collapsed": false
   },
   "outputs": [
    {
     "name": "stdout",
     "output_type": "stream",
     "text": [
      "0.0\n"
     ]
    }
   ],
   "source": [
    "user_location = get_user_location()\n",
    "\n",
    "lonUser = user_location['longitude']\n",
    "latUser = user_location['latitude']\n",
    "\n",
    "lonPark = user_location['longitude']\n",
    "latPark = user_location['latitude']\n",
    "\n",
    "print haversine(lonUser, latUser, lonPark, latPark)"
   ]
  },
  {
   "cell_type": "markdown",
   "metadata": {},
   "source": [
    "#### 2. User location compared against Mt. Diablo"
   ]
  },
  {
   "cell_type": "code",
   "execution_count": 19,
   "metadata": {
    "collapsed": false
   },
   "outputs": [
    {
     "data": {
      "text/html": [
       "<div>\n",
       "<table border=\"1\" class=\"dataframe\">\n",
       "  <thead>\n",
       "    <tr style=\"text-align: right;\">\n",
       "      <th></th>\n",
       "      <th>lon</th>\n",
       "      <th>lat</th>\n",
       "      <th>campground name</th>\n",
       "      <th>comments</th>\n",
       "      <th>state</th>\n",
       "    </tr>\n",
       "  </thead>\n",
       "  <tbody>\n",
       "    <tr>\n",
       "      <th>923</th>\n",
       "      <td>-121.933</td>\n",
       "      <td>37.851</td>\n",
       "      <td>Mt. Diablo State Park</td>\n",
       "      <td>3 campgrounds</td>\n",
       "      <td>CA</td>\n",
       "    </tr>\n",
       "  </tbody>\n",
       "</table>\n",
       "</div>"
      ],
      "text/plain": [
       "         lon     lat        campground name       comments state\n",
       "923 -121.933  37.851  Mt. Diablo State Park  3 campgrounds    CA"
      ]
     },
     "execution_count": 19,
     "metadata": {},
     "output_type": "execute_result"
    }
   ],
   "source": [
    "df_ca.loc[df_ca['campground name'].str.contains('Mt. Diablo')][['lon', 'lat', 'campground name', 'comments', 'state']].head(3)"
   ]
  },
  {
   "cell_type": "code",
   "execution_count": 20,
   "metadata": {
    "collapsed": false
   },
   "outputs": [
    {
     "name": "stdout",
     "output_type": "stream",
     "text": [
      "44.6794846374\n"
     ]
    }
   ],
   "source": [
    "user_location = get_user_location()\n",
    "\n",
    "lonUser = user_location['longitude']\n",
    "latUser = user_location['latitude']\n",
    "\n",
    "lonPark = df_ca.loc[df_ca['campground name'].str.contains('Mt. Diablo'), 'lon']\n",
    "latPark = df_ca.loc[df_ca['campground name'].str.contains('Mt. Diablo'), 'lat']\n",
    "\n",
    "print haversine(lonUser, latUser, lonPark, latPark)"
   ]
  },
  {
   "cell_type": "code",
   "execution_count": 19,
   "metadata": {
    "collapsed": true
   },
   "outputs": [],
   "source": [
    "# We should use a bounding box as an additional test"
   ]
  },
  {
   "cell_type": "markdown",
   "metadata": {},
   "source": [
    "### Function comparing user location to all campground locations:"
   ]
  },
  {
   "cell_type": "code",
   "execution_count": null,
   "metadata": {
    "collapsed": true
   },
   "outputs": [],
   "source": [
    "def get_nearest_park():\n",
    "    # call get_user_location and save lon/lat\n",
    "    user_location = get_user_location()\n",
    "\n",
    "    lonUser = user_location['longitude']\n",
    "    latUser = user_location['latitude']\n",
    "    \n",
    "    # create local version of df_ca\n",
    "    df_user_distance = df_ca.copy()\n",
    "    \n",
    "    # create distance column, populate with distance between lon/lat of row using haversine formula\n",
    "    # return row with smallest distance value"
   ]
  },
  {
   "cell_type": "code",
   "execution_count": 21,
   "metadata": {
    "collapsed": true
   },
   "outputs": [],
   "source": [
    "df_user_distance = df_ca.copy()"
   ]
  },
  {
   "cell_type": "code",
   "execution_count": 22,
   "metadata": {
    "collapsed": true
   },
   "outputs": [],
   "source": [
    "# df_user_distance['Distance'] = haversine(lonUser, latUser, df_user_distance['lon'], df_user_distance['lat'])\n",
    "\n",
    "# may not need this if we can use iterrows:\n",
    "# http://stackoverflow.com/questions/19914937/applying-function-with-multiple-arguments-to-create-a-new-pandas-column"
   ]
  },
  {
   "cell_type": "code",
   "execution_count": 23,
   "metadata": {
    "collapsed": true
   },
   "outputs": [],
   "source": [
    "# try iterrows"
   ]
  },
  {
   "cell_type": "code",
   "execution_count": 36,
   "metadata": {
    "collapsed": true
   },
   "outputs": [],
   "source": [
    "# Testing a way to compare distances faster\n",
    "# source: http://stackoverflow.com/questions/6656475/python-speeding-up-geographic-comparison\n",
    "\n",
    "earth_radius_miles = 3956.0\n",
    "\n",
    "def get_shortest_in(needle, haystack):\n",
    "    \"\"\"needle is a single (lat,long) tuple.\n",
    "        haystack is a numpy array to find the point in\n",
    "        that has the shortest distance to needle\n",
    "    \"\"\"\n",
    "    dlat = np.radians(haystack[:,0]) - radians(needle[0])\n",
    "    #print dlat\n",
    "    dlon = np.radians(haystack[:,1]) - radians(needle[1])\n",
    "    \n",
    "    a = np.square(np.sin(dlat/2.0)) + cos(radians(needle[0])) * np.cos(np.radians(haystack[:,0])) * np.square(np.sin(dlon/2.0))\n",
    "    print a\n",
    "    great_circle_distance = 2 * np.arcsin(np.minimum(np.sqrt(a), np.repeat(1, len(a))))\n",
    "    d = earth_radius_miles * great_circle_distance\n",
    "    print d\n",
    "    return np.min(d)\n",
    "\n"
   ]
  },
  {
   "cell_type": "code",
   "execution_count": 43,
   "metadata": {
    "collapsed": true
   },
   "outputs": [],
   "source": [
    "x = (37.160316546736745, -78.75)\n",
    "y = (39.095962936305476, -121.2890625)\n",
    "\n",
    "\n",
    "lots = np.array(list(itertools.repeat(y, 100)))\n",
    "def donumpy():\n",
    "    get_shortest_in(x, np.array(df_ca_lon_lat))\n",
    "    \n"
   ]
  },
  {
   "cell_type": "code",
   "execution_count": 40,
   "metadata": {
    "collapsed": false
   },
   "outputs": [],
   "source": [
    "# We've decided to pull the first 2 columns from our original table, then use index of the shortest distance to look up the name\n",
    "\n",
    "# Pull columns from table\n",
    "df_ca_lon_lat = df_ca[['lon','lat']]\n",
    "\n",
    "\n",
    "# Find shortest distance and return index\n",
    "\n",
    "# Turn index into campground name"
   ]
  },
  {
   "cell_type": "code",
   "execution_count": 44,
   "metadata": {
    "collapsed": false
   },
   "outputs": [
    {
     "name": "stdout",
     "output_type": "stream",
     "text": [
      "[ 0.64097472  0.64762637  0.66703835 ...,  0.67457282  0.66419697\n",
      "  0.69877087]\n",
      "[ 7344.79547573  7399.76277507  7561.58468113 ...,  7625.01409946\n",
      "  7537.75855694  7831.42637733]\n"
     ]
    }
   ],
   "source": [
    "donumpy()"
   ]
  },
  {
   "cell_type": "code",
   "execution_count": null,
   "metadata": {
    "collapsed": true
   },
   "outputs": [],
   "source": []
  }
 ],
 "metadata": {
  "kernelspec": {
   "display_name": "Python 2",
   "language": "python",
   "name": "python2"
  },
  "language_info": {
   "codemirror_mode": {
    "name": "ipython",
    "version": 2
   },
   "file_extension": ".py",
   "mimetype": "text/x-python",
   "name": "python",
   "nbconvert_exporter": "python",
   "pygments_lexer": "ipython2",
   "version": "2.7.11"
  }
 },
 "nbformat": 4,
 "nbformat_minor": 0
}
