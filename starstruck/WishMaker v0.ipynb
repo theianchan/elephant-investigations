{
 "cells": [
  {
   "cell_type": "markdown",
   "metadata": {},
   "source": [
    "### Scope\n",
    "\n",
    "Input: date\n",
    "\n",
    "Output: date of next shower\n",
    "\n",
    "### Steps\n",
    "\n",
    "1. Create meteor-shower.csv\n",
    "2. Write function that takes date\n",
    "3. Update function to return next meteor shower name, date"
   ]
  },
  {
   "cell_type": "code",
   "execution_count": 2,
   "metadata": {
    "collapsed": true
   },
   "outputs": [],
   "source": [
    "import pandas as pd\n",
    "import numpy as np"
   ]
  },
  {
   "cell_type": "code",
   "execution_count": 21,
   "metadata": {
    "collapsed": false
   },
   "outputs": [
    {
     "data": {
      "text/html": [
       "<div>\n",
       "<table border=\"1\" class=\"dataframe\">\n",
       "  <thead>\n",
       "    <tr style=\"text-align: right;\">\n",
       "      <th></th>\n",
       "      <th>Shower</th>\n",
       "      <th>Activity</th>\n",
       "      <th>Maximum Date</th>\n",
       "      <th>Maximum λ⊙</th>\n",
       "      <th>Radiant α</th>\n",
       "      <th>Radiant δ</th>\n",
       "      <th>V∞ km/s</th>\n",
       "      <th>r</th>\n",
       "      <th>ZHR</th>\n",
       "    </tr>\n",
       "  </thead>\n",
       "  <tbody>\n",
       "    <tr>\n",
       "      <th>0</th>\n",
       "      <td>Antihelion Source (ANT)</td>\n",
       "      <td>Dec 10–Sep 10</td>\n",
       "      <td>March–April – late May-June</td>\n",
       "      <td>NaN</td>\n",
       "      <td>see Table 6</td>\n",
       "      <td>see Table 6</td>\n",
       "      <td>30</td>\n",
       "      <td>3.0</td>\n",
       "      <td>4</td>\n",
       "    </tr>\n",
       "    <tr>\n",
       "      <th>1</th>\n",
       "      <td>Quadrantids (010 QUA)</td>\n",
       "      <td>Dec 28–Jan 12</td>\n",
       "      <td>Jan 04</td>\n",
       "      <td>283.◦16</td>\n",
       "      <td>230◦</td>\n",
       "      <td>+49◦</td>\n",
       "      <td>41</td>\n",
       "      <td>2.1</td>\n",
       "      <td>120</td>\n",
       "    </tr>\n",
       "    <tr>\n",
       "      <th>2</th>\n",
       "      <td>α-Centaurids (102 ACE)</td>\n",
       "      <td>Jan 28–Feb 21</td>\n",
       "      <td>Feb 08</td>\n",
       "      <td>319.◦2</td>\n",
       "      <td>210◦</td>\n",
       "      <td>−59◦</td>\n",
       "      <td>56</td>\n",
       "      <td>2.0</td>\n",
       "      <td>6</td>\n",
       "    </tr>\n",
       "  </tbody>\n",
       "</table>\n",
       "</div>"
      ],
      "text/plain": [
       "                    Shower       Activity                 Maximum Date  \\\n",
       "0  Antihelion Source (ANT)  Dec 10–Sep 10  March–April – late May-June   \n",
       "1    Quadrantids (010 QUA)  Dec 28–Jan 12                       Jan 04   \n",
       "2   α-Centaurids (102 ACE)  Jan 28–Feb 21                       Feb 08   \n",
       "\n",
       "  Maximum λ⊙    Radiant α    Radiant δ  V∞ km/s    r  ZHR  \n",
       "0        NaN  see Table 6  see Table 6       30  3.0    4  \n",
       "1    283.◦16         230◦         +49◦       41  2.1  120  \n",
       "2     319.◦2         210◦         −59◦       56  2.0    6  "
      ]
     },
     "execution_count": 21,
     "metadata": {},
     "output_type": "execute_result"
    }
   ],
   "source": [
    "df = pd.read_csv('meteor-shower.csv')\n",
    "df.head(3)"
   ]
  },
  {
   "cell_type": "code",
   "execution_count": 28,
   "metadata": {
    "collapsed": false
   },
   "outputs": [],
   "source": [
    "df['Start Date'] = df['Activity'].str[:6]\n",
    "df['End Date'] = df['Activity'].str[9:]"
   ]
  },
  {
   "cell_type": "code",
   "execution_count": 29,
   "metadata": {
    "collapsed": false
   },
   "outputs": [
    {
     "data": {
      "text/html": [
       "<div>\n",
       "<table border=\"1\" class=\"dataframe\">\n",
       "  <thead>\n",
       "    <tr style=\"text-align: right;\">\n",
       "      <th></th>\n",
       "      <th>Shower</th>\n",
       "      <th>Activity</th>\n",
       "      <th>Maximum Date</th>\n",
       "      <th>Maximum λ⊙</th>\n",
       "      <th>Radiant α</th>\n",
       "      <th>Radiant δ</th>\n",
       "      <th>V∞ km/s</th>\n",
       "      <th>r</th>\n",
       "      <th>ZHR</th>\n",
       "      <th>Start Date</th>\n",
       "      <th>End Date</th>\n",
       "    </tr>\n",
       "  </thead>\n",
       "  <tbody>\n",
       "    <tr>\n",
       "      <th>0</th>\n",
       "      <td>Antihelion Source (ANT)</td>\n",
       "      <td>Dec 10–Sep 10</td>\n",
       "      <td>March–April – late May-June</td>\n",
       "      <td>NaN</td>\n",
       "      <td>see Table 6</td>\n",
       "      <td>see Table 6</td>\n",
       "      <td>30</td>\n",
       "      <td>3.0</td>\n",
       "      <td>4</td>\n",
       "      <td>Dec 10</td>\n",
       "      <td>Sep 10</td>\n",
       "    </tr>\n",
       "    <tr>\n",
       "      <th>1</th>\n",
       "      <td>Quadrantids (010 QUA)</td>\n",
       "      <td>Dec 28–Jan 12</td>\n",
       "      <td>Jan 04</td>\n",
       "      <td>283.◦16</td>\n",
       "      <td>230◦</td>\n",
       "      <td>+49◦</td>\n",
       "      <td>41</td>\n",
       "      <td>2.1</td>\n",
       "      <td>120</td>\n",
       "      <td>Dec 28</td>\n",
       "      <td>Jan 12</td>\n",
       "    </tr>\n",
       "    <tr>\n",
       "      <th>2</th>\n",
       "      <td>α-Centaurids (102 ACE)</td>\n",
       "      <td>Jan 28–Feb 21</td>\n",
       "      <td>Feb 08</td>\n",
       "      <td>319.◦2</td>\n",
       "      <td>210◦</td>\n",
       "      <td>−59◦</td>\n",
       "      <td>56</td>\n",
       "      <td>2.0</td>\n",
       "      <td>6</td>\n",
       "      <td>Jan 28</td>\n",
       "      <td>Feb 21</td>\n",
       "    </tr>\n",
       "  </tbody>\n",
       "</table>\n",
       "</div>"
      ],
      "text/plain": [
       "                    Shower       Activity                 Maximum Date  \\\n",
       "0  Antihelion Source (ANT)  Dec 10–Sep 10  March–April – late May-June   \n",
       "1    Quadrantids (010 QUA)  Dec 28–Jan 12                       Jan 04   \n",
       "2   α-Centaurids (102 ACE)  Jan 28–Feb 21                       Feb 08   \n",
       "\n",
       "  Maximum λ⊙    Radiant α    Radiant δ  V∞ km/s    r  ZHR Start Date End Date  \n",
       "0        NaN  see Table 6  see Table 6       30  3.0    4     Dec 10   Sep 10  \n",
       "1    283.◦16         230◦         +49◦       41  2.1  120     Dec 28   Jan 12  \n",
       "2     319.◦2         210◦         −59◦       56  2.0    6     Jan 28   Feb 21  "
      ]
     },
     "execution_count": 29,
     "metadata": {},
     "output_type": "execute_result"
    }
   ],
   "source": [
    "df.head(3)"
   ]
  },
  {
   "cell_type": "code",
   "execution_count": 39,
   "metadata": {
    "collapsed": false
   },
   "outputs": [
    {
     "data": {
      "text/html": [
       "<div>\n",
       "<table border=\"1\" class=\"dataframe\">\n",
       "  <thead>\n",
       "    <tr style=\"text-align: right;\">\n",
       "      <th></th>\n",
       "      <th>Shower</th>\n",
       "      <th>Activity</th>\n",
       "      <th>Maximum Date</th>\n",
       "      <th>Maximum λ⊙</th>\n",
       "      <th>Radiant α</th>\n",
       "      <th>Radiant δ</th>\n",
       "      <th>V∞ km/s</th>\n",
       "      <th>r</th>\n",
       "      <th>ZHR</th>\n",
       "      <th>Start Date</th>\n",
       "      <th>End Date</th>\n",
       "    </tr>\n",
       "  </thead>\n",
       "  <tbody>\n",
       "    <tr>\n",
       "      <th>0</th>\n",
       "      <td>Antihelion Source (ANT)</td>\n",
       "      <td>Dec 10–Sep 10</td>\n",
       "      <td>March–April – late May-June</td>\n",
       "      <td>NaN</td>\n",
       "      <td>see Table 6</td>\n",
       "      <td>see Table 6</td>\n",
       "      <td>30</td>\n",
       "      <td>3.0</td>\n",
       "      <td>4</td>\n",
       "      <td>1900-12-10</td>\n",
       "      <td>1900-09-10</td>\n",
       "    </tr>\n",
       "    <tr>\n",
       "      <th>1</th>\n",
       "      <td>Quadrantids (010 QUA)</td>\n",
       "      <td>Dec 28–Jan 12</td>\n",
       "      <td>Jan 04</td>\n",
       "      <td>283.◦16</td>\n",
       "      <td>230◦</td>\n",
       "      <td>+49◦</td>\n",
       "      <td>41</td>\n",
       "      <td>2.1</td>\n",
       "      <td>120</td>\n",
       "      <td>1900-12-28</td>\n",
       "      <td>1900-01-12</td>\n",
       "    </tr>\n",
       "    <tr>\n",
       "      <th>2</th>\n",
       "      <td>α-Centaurids (102 ACE)</td>\n",
       "      <td>Jan 28–Feb 21</td>\n",
       "      <td>Feb 08</td>\n",
       "      <td>319.◦2</td>\n",
       "      <td>210◦</td>\n",
       "      <td>−59◦</td>\n",
       "      <td>56</td>\n",
       "      <td>2.0</td>\n",
       "      <td>6</td>\n",
       "      <td>1900-01-28</td>\n",
       "      <td>1900-02-21</td>\n",
       "    </tr>\n",
       "  </tbody>\n",
       "</table>\n",
       "</div>"
      ],
      "text/plain": [
       "                    Shower       Activity                 Maximum Date  \\\n",
       "0  Antihelion Source (ANT)  Dec 10–Sep 10  March–April – late May-June   \n",
       "1    Quadrantids (010 QUA)  Dec 28–Jan 12                       Jan 04   \n",
       "2   α-Centaurids (102 ACE)  Jan 28–Feb 21                       Feb 08   \n",
       "\n",
       "  Maximum λ⊙    Radiant α    Radiant δ  V∞ km/s    r  ZHR Start Date  \\\n",
       "0        NaN  see Table 6  see Table 6       30  3.0    4 1900-12-10   \n",
       "1    283.◦16         230◦         +49◦       41  2.1  120 1900-12-28   \n",
       "2     319.◦2         210◦         −59◦       56  2.0    6 1900-01-28   \n",
       "\n",
       "    End Date  \n",
       "0 1900-09-10  \n",
       "1 1900-01-12  \n",
       "2 1900-02-21  "
      ]
     },
     "execution_count": 39,
     "metadata": {},
     "output_type": "execute_result"
    }
   ],
   "source": [
    "df['Start Date'] = pd.to_datetime(df['Start Date'], format='%b %d')\n",
    "df['End Date'] = pd.to_datetime(df['End Date'], format='%b %d')\n",
    "df.head(3)"
   ]
  },
  {
   "cell_type": "code",
   "execution_count": null,
   "metadata": {
    "collapsed": true
   },
   "outputs": [],
   "source": []
  }
 ],
 "metadata": {
  "kernelspec": {
   "display_name": "Python 2",
   "language": "python",
   "name": "python2"
  },
  "language_info": {
   "codemirror_mode": {
    "name": "ipython",
    "version": 2
   },
   "file_extension": ".py",
   "mimetype": "text/x-python",
   "name": "python",
   "nbconvert_exporter": "python",
   "pygments_lexer": "ipython2",
   "version": "2.7.11"
  }
 },
 "nbformat": 4,
 "nbformat_minor": 0
}
